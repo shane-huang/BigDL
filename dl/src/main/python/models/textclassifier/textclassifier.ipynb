{
 "cells": [
  {
   "cell_type": "markdown",
   "metadata": {
    "deletable": true,
    "editable": true
   },
   "source": [
    "# Text Classification Example"
   ]
  },
  {
   "cell_type": "code",
   "execution_count": 1,
   "metadata": {
    "collapsed": true,
    "deletable": true,
    "editable": true
   },
   "outputs": [],
   "source": [
    "import itertools\n",
    "import re"
   ]
  },
  {
   "cell_type": "code",
   "execution_count": 2,
   "metadata": {
    "collapsed": false,
    "deletable": true,
    "editable": true
   },
   "outputs": [],
   "source": [
    "from dataset import news20\n",
    "from nn.layer import *\n",
    "from optim.optimizer import *\n",
    "from util.common import *\n",
    "from util.common import Sample"
   ]
  },
  {
   "cell_type": "code",
   "execution_count": 3,
   "metadata": {
    "collapsed": false,
    "deletable": true,
    "editable": true
   },
   "outputs": [],
   "source": [
    "from sklearn.metrics import confusion_matrix\n",
    "from sklearn import metrics\n",
    "import matplotlib.pyplot as plt\n",
    "%matplotlib inline\n",
    "import seaborn as sn\n",
    "import pandas as pd"
   ]
  },
  {
   "cell_type": "code",
   "execution_count": 4,
   "metadata": {
    "collapsed": false,
    "deletable": true,
    "editable": true
   },
   "outputs": [],
   "source": [
    "initEngine(1,4)"
   ]
  },
  {
   "cell_type": "markdown",
   "metadata": {
    "deletable": true,
    "editable": true
   },
   "source": [
    "## 1. define some utility functions\n",
    "* break the text corpus into tokens (words)"
   ]
  },
  {
   "cell_type": "code",
   "execution_count": 5,
   "metadata": {
    "collapsed": false,
    "deletable": true,
    "editable": true
   },
   "outputs": [],
   "source": [
    "def text_to_words(review_text):\n",
    "    letters_only = re.sub(\"[^a-zA-Z]\", \" \", review_text)\n",
    "    words = letters_only.lower().split()\n",
    "    return words"
   ]
  },
  {
   "cell_type": "markdown",
   "metadata": {
    "deletable": true,
    "editable": true
   },
   "source": [
    "* calcualte the frequency of words in each text corpus, sort by frequency, and assign an id to each word"
   ]
  },
  {
   "cell_type": "code",
   "execution_count": 6,
   "metadata": {
    "collapsed": true,
    "deletable": true,
    "editable": true
   },
   "outputs": [],
   "source": [
    "def analyze_texts(data_rdd):\n",
    "    return data_rdd.flatMap(lambda (text, label): text_to_words(text)) \\\n",
    "        .map(lambda word: (word, 1)).reduceByKey(lambda a, b: a + b) \\\n",
    "        .sortBy(lambda (w, c): - c).zipWithIndex() \\\n",
    "        .map(lambda ((w, c), i): (w, (i + 1, c))).collect()"
   ]
  },
  {
   "cell_type": "markdown",
   "metadata": {
    "deletable": true,
    "editable": true
   },
   "source": [
    "* pad the embedding to required length"
   ]
  },
  {
   "cell_type": "code",
   "execution_count": 7,
   "metadata": {
    "collapsed": true,
    "deletable": true,
    "editable": true
   },
   "outputs": [],
   "source": [
    "# pad([1, 2, 3, 4, 5], 0, 6)\n",
    "def pad(l, fill_value, width):\n",
    "    if len(l) >= width:\n",
    "        return l[0: width]\n",
    "    else:\n",
    "        l.extend([fill_value] * (width - len(l)))\n",
    "        return l"
   ]
  },
  {
   "cell_type": "markdown",
   "metadata": {
    "deletable": true,
    "editable": true
   },
   "source": [
    "* word to vec"
   ]
  },
  {
   "cell_type": "code",
   "execution_count": 8,
   "metadata": {
    "collapsed": true,
    "deletable": true,
    "editable": true
   },
   "outputs": [],
   "source": [
    "def to_vec(token, b_w2v, embedding_dim):\n",
    "    if token in b_w2v:\n",
    "        return b_w2v[token]\n",
    "    else:\n",
    "        return pad([], 0, embedding_dim)"
   ]
  },
  {
   "cell_type": "markdown",
   "metadata": {
    "deletable": true,
    "editable": true
   },
   "source": [
    "* assemble the features (embeddings of words in each text sample) and label into samples"
   ]
  },
  {
   "cell_type": "code",
   "execution_count": 9,
   "metadata": {
    "collapsed": true,
    "deletable": true,
    "editable": true
   },
   "outputs": [],
   "source": [
    "def to_sample(vectors, label, embedding_dim):\n",
    "    # flatten nested list\n",
    "    flatten_features = list(itertools.chain(*vectors))\n",
    "    features = np.array(flatten_features, dtype='float').reshape(\n",
    "        [sequence_len, embedding_dim]).transpose(1, 0)\n",
    "    return Sample.from_ndarray(features, np.array(label))"
   ]
  },
  {
   "cell_type": "code",
   "execution_count": 10,
   "metadata": {
    "collapsed": true,
    "deletable": true,
    "editable": true
   },
   "outputs": [],
   "source": [
    "def build_model(class_num):\n",
    "    model = Sequential()\n",
    "\n",
    "    model.add(Reshape([embedding_dim, 1, sequence_len]))\n",
    "    model.add(SpatialConvolution(embedding_dim, 128, 5, 1))\n",
    "    model.add(ReLU())\n",
    "    model.add(SpatialMaxPooling(5, 1, 5, 1))\n",
    "    model.add(SpatialConvolution(128, 128, 5, 1))\n",
    "    model.add(ReLU())\n",
    "    model.add(SpatialMaxPooling(5, 1, 5, 1))\n",
    "    model.add(Reshape([128]))\n",
    "    model.add(Linear(128, 100))\n",
    "    model.add(Linear(100, class_num))\n",
    "    model.add(LogSoftMax())\n",
    "    return model"
   ]
  },
  {
   "cell_type": "markdown",
   "metadata": {
    "deletable": true,
    "editable": true
   },
   "source": [
    "## 2. Training the model"
   ]
  },
  {
   "cell_type": "markdown",
   "metadata": {
    "deletable": true,
    "editable": true
   },
   "source": [
    "* set some tunable parameters"
   ]
  },
  {
   "cell_type": "code",
   "execution_count": 11,
   "metadata": {
    "collapsed": true,
    "deletable": true,
    "editable": true
   },
   "outputs": [],
   "source": [
    "batch_size = 128\n",
    "embedding_dim = 50\n",
    "sequence_len = 50\n",
    "max_words = 1000\n",
    "training_split = 0.8"
   ]
  },
  {
   "cell_type": "markdown",
   "metadata": {
    "deletable": true,
    "editable": true
   },
   "source": [
    "* prepare samples"
   ]
  },
  {
   "cell_type": "code",
   "execution_count": 12,
   "metadata": {
    "collapsed": false,
    "deletable": true,
    "editable": true
   },
   "outputs": [
    {
     "name": "stdout",
     "output_type": "stream",
     "text": [
      "Found 19997 texts.\n",
      "Generated Samples\n"
     ]
    }
   ],
   "source": [
    "texts = news20.get_news20()\n",
    "data_rdd = sc.parallelize(texts, 2)\n",
    "\n",
    "word_to_ic = analyze_texts(data_rdd)\n",
    "# Only take the top wc between [10, sequence_len]\n",
    "word_to_ic = dict(word_to_ic[10: max_words])\n",
    "bword_to_ic = sc.broadcast(word_to_ic)\n",
    "\n",
    "w2v = news20.get_glove_w2v(dim=embedding_dim)\n",
    "filtered_w2v = {w: v for w, v in w2v.items() if w in word_to_ic}\n",
    "bfiltered_w2v = sc.broadcast(filtered_w2v)\n",
    "\n",
    "tokens_rdd = data_rdd.map(lambda (text, label):\n",
    "                              ([w for w in text_to_words(text) if\n",
    "                                w in bword_to_ic.value], label))\n",
    "padded_tokens_rdd = tokens_rdd.map(\n",
    "        lambda (tokens, label): (pad(tokens, \"##\", sequence_len), label))\n",
    "\n",
    "vector_rdd = padded_tokens_rdd.map(lambda (tokens, label):\n",
    "                                       ([to_vec(w, bfiltered_w2v.value,\n",
    "                                                embedding_dim) for w in\n",
    "                                         tokens], label))\n",
    "sample_rdd = vector_rdd.map(\n",
    "        lambda (vectors, label): to_sample(vectors, label, embedding_dim))\n",
    "print('Generated Samples')"
   ]
  },
  {
   "cell_type": "markdown",
   "metadata": {
    "deletable": true,
    "editable": true
   },
   "source": [
    "* split the samples into train and validation set "
   ]
  },
  {
   "cell_type": "code",
   "execution_count": 13,
   "metadata": {
    "collapsed": true,
    "deletable": true,
    "editable": true
   },
   "outputs": [],
   "source": [
    "#split train val sets\n",
    "train_rdd, val_rdd = sample_rdd.randomSplit(\n",
    "        [training_split, 1-training_split])"
   ]
  },
  {
   "cell_type": "markdown",
   "metadata": {
    "deletable": true,
    "editable": true
   },
   "source": [
    "* configure optimizer"
   ]
  },
  {
   "cell_type": "code",
   "execution_count": 14,
   "metadata": {
    "collapsed": false,
    "deletable": true,
    "editable": true
   },
   "outputs": [
    {
     "name": "stdout",
     "output_type": "stream",
     "text": [
      "creating: createSequential\n",
      "creating: createReshape\n",
      "creating: createSpatialConvolution\n",
      "creating: createReLU\n",
      "creating: createSpatialMaxPooling\n",
      "creating: createSpatialConvolution\n",
      "creating: createReLU\n",
      "creating: createSpatialMaxPooling\n",
      "creating: createReshape\n",
      "creating: createLinear\n",
      "creating: createLinear\n",
      "creating: createLogSoftMax\n",
      "creating: createClassNLLCriterion\n",
      "creating: createMaxEpoch\n",
      "creating: createOptimizer\n",
      "creating: createEveryEpoch\n",
      "CPU times: user 40 ms, sys: 36 ms, total: 76 ms\n",
      "Wall time: 20.6 s\n"
     ]
    }
   ],
   "source": [
    "%%time\n",
    "#configure states\n",
    "state = {\"batchSize\": batch_size,\n",
    "         \"learningRate\": 0.01,\n",
    "         \"learningRateDecay\": 0.0002}\n",
    "#configure optimizer\n",
    "optimizer = Optimizer(\n",
    "        model=build_model(news20.CLASS_NUM),\n",
    "        training_rdd=train_rdd,\n",
    "        criterion=ClassNLLCriterion(),\n",
    "        end_trigger=MaxEpoch(2),\n",
    "        batch_size=batch_size,\n",
    "        optim_method=\"Adagrad\",\n",
    "        state=state)\n",
    "\n",
    "optimizer.setvalidation(\n",
    "    batch_size=batch_size,\n",
    "        val_rdd=val_rdd,\n",
    "        trigger=EveryEpoch(),\n",
    "        val_method=[\"top1\"]\n",
    ")"
   ]
  },
  {
   "cell_type": "markdown",
   "metadata": {
    "deletable": true,
    "editable": true
   },
   "source": [
    "* Train the network. Wait some time till it finished.. Voila! You've got a trained model"
   ]
  },
  {
   "cell_type": "code",
   "execution_count": 15,
   "metadata": {
    "collapsed": false,
    "deletable": true,
    "editable": true,
    "scrolled": true
   },
   "outputs": [
    {
     "name": "stdout",
     "output_type": "stream",
     "text": [
      "Optimization Done.\n",
      "CPU times: user 4 ms, sys: 4 ms, total: 8 ms\n",
      "Wall time: 31.9 s\n"
     ]
    }
   ],
   "source": [
    "%%time\n",
    "trained_model = optimizer.optimize()\n",
    "print \"Optimization Done.\""
   ]
  },
  {
   "cell_type": "markdown",
   "metadata": {
    "deletable": true,
    "editable": true
   },
   "source": [
    "## 3 Inspecting the prediction results"
   ]
  },
  {
   "cell_type": "markdown",
   "metadata": {
    "deletable": true,
    "editable": true
   },
   "source": [
    "* Let's look closely on the predicted results of validation set"
   ]
  },
  {
   "cell_type": "code",
   "execution_count": 16,
   "metadata": {
    "collapsed": false,
    "deletable": true,
    "editable": true
   },
   "outputs": [],
   "source": [
    "predictions = trained_model.predict(val_rdd)"
   ]
  },
  {
   "cell_type": "code",
   "execution_count": 17,
   "metadata": {
    "collapsed": true,
    "deletable": true,
    "editable": true
   },
   "outputs": [],
   "source": [
    "def map_predict_label(l):\n",
    "    return np.array(l).argmax()\n",
    "def map_groundtruth_label(l):\n",
    "    return l[0] - 1"
   ]
  },
  {
   "cell_type": "code",
   "execution_count": 18,
   "metadata": {
    "collapsed": false,
    "deletable": true,
    "editable": true
   },
   "outputs": [],
   "source": [
    "y_pred = np.array([ map_predict_label(s.label) for s in predictions.collect()])"
   ]
  },
  {
   "cell_type": "code",
   "execution_count": 19,
   "metadata": {
    "collapsed": false,
    "deletable": true,
    "editable": true
   },
   "outputs": [],
   "source": [
    "y_true = np.array([map_groundtruth_label(s.label) for s in val_rdd.collect()])"
   ]
  },
  {
   "cell_type": "markdown",
   "metadata": {
    "deletable": true,
    "editable": true
   },
   "source": [
    "compute the confustion matrix and plot it"
   ]
  },
  {
   "cell_type": "code",
   "execution_count": 20,
   "metadata": {
    "collapsed": false,
    "deletable": true,
    "editable": true
   },
   "outputs": [
    {
     "data": {
      "text/plain": [
       "(20, 20)"
      ]
     },
     "execution_count": 20,
     "metadata": {},
     "output_type": "execute_result"
    }
   ],
   "source": [
    "cm = confusion_matrix(y_true, y_pred)\n",
    "cm.shape"
   ]
  },
  {
   "cell_type": "code",
   "execution_count": 21,
   "metadata": {
    "collapsed": false,
    "deletable": true,
    "editable": true
   },
   "outputs": [
    {
     "name": "stderr",
     "output_type": "stream",
     "text": [
      "/usr/local/lib/python2.7/dist-packages/matplotlib/font_manager.py:1297: UserWarning: findfont: Font family [u'sans-serif'] not found. Falling back to DejaVu Sans\n",
      "  (prop.get_family(), self.defaultFamily[fontext]))\n"
     ]
    },
    {
     "data": {
      "text/plain": [
       "<matplotlib.axes._subplots.AxesSubplot at 0x7f6f1f6b6d90>"
      ]
     },
     "execution_count": 21,
     "metadata": {},
     "output_type": "execute_result"
    },
    {
     "data": {
      "image/png": "[encoded data removed]",
      "text/plain": [
       "<matplotlib.figure.Figure at 0x7f6f1f6b6490>"
      ]
     },
     "metadata": {},
     "output_type": "display_data"
    }
   ],
   "source": [
    "df_cm = pd.DataFrame(cm)\n",
    "plt.figure(figsize = (10,8))\n",
    "sn.heatmap(df_cm, annot=True,fmt='d')"
   ]
  },
  {
   "cell_type": "code",
   "execution_count": null,
   "metadata": {
    "collapsed": true,
    "deletable": true,
    "editable": true
   },
   "outputs": [],
   "source": []
  }
 ],
 "metadata": {
  "kernelspec": {
   "display_name": "Python 2",
   "language": "python",
   "name": "python2"
  },
  "language_info": {
   "codemirror_mode": {
    "name": "ipython",
    "version": 2
   },
   "file_extension": ".py",
   "mimetype": "text/x-python",
   "name": "python",
   "nbconvert_exporter": "python",
   "pygments_lexer": "ipython2",
   "version": "2.7.6"
  }
 },
 "nbformat": 4,
 "nbformat_minor": 2
}
